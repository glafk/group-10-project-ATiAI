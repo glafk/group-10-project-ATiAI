{
 "cells": [
  {
   "cell_type": "code",
   "execution_count": 14,
   "id": "f27f48cb",
   "metadata": {},
   "outputs": [],
   "source": [
    "PATH_TRAINED_MODEL = './runs/plankton_258_protos/checkpoints/net_trained_60'\n",
    "LOG_DIR = './runs/plankton_258_protos_rfecv' #new model is also saved here"
   ]
  },
  {
   "cell_type": "code",
   "execution_count": 2,
   "id": "3546a200",
   "metadata": {},
   "outputs": [],
   "source": [
    "%matplotlib inline"
   ]
  },
  {
   "cell_type": "code",
   "execution_count": 3,
   "id": "f501f533",
   "metadata": {},
   "outputs": [],
   "source": [
    "import os\n",
    "import pandas as pd\n",
    "import numpy as np\n",
    "\n",
    "df = pd.read_csv(\"testfile_2023-11-11-14:49:07_random_forest\")"
   ]
  },
  {
   "cell_type": "code",
   "execution_count": 4,
   "id": "4c049287",
   "metadata": {},
   "outputs": [
    {
     "data": {
      "text/plain": [
       "<AxesSubplot:>"
      ]
     },
     "execution_count": 4,
     "metadata": {},
     "output_type": "execute_result"
    },
    {
     "data": {
      "image/png": "[encoded data removed]",
      "text/plain": [
       "<Figure size 432x288 with 1 Axes>"
      ]
     },
     "metadata": {
      "needs_background": "light"
     },
     "output_type": "display_data"
    }
   ],
   "source": [
    "df.drop(columns='labels').mean(axis=0).hist()"
   ]
  },
  {
   "cell_type": "code",
   "execution_count": 7,
   "id": "da29f2a2",
   "metadata": {},
   "outputs": [],
   "source": [
    "from sklearn.feature_selection import RFECV\n",
    "from sklearn.ensemble import RandomForestClassifier"
   ]
  },
  {
   "cell_type": "code",
   "execution_count": 8,
   "id": "535822ba",
   "metadata": {},
   "outputs": [],
   "source": [
    "estimator = RandomForestClassifier()\n",
    "\n",
    "selector = RFECV(estimator, step=10, cv=3, scoring='f1_macro', verbose=1)"
   ]
  },
  {
   "cell_type": "code",
   "execution_count": 9,
   "id": "924841c4",
   "metadata": {
    "scrolled": true
   },
   "outputs": [
    {
     "name": "stdout",
     "output_type": "stream",
     "text": [
      "Fitting estimator with 258 features.\n",
      "Fitting estimator with 248 features.\n",
      "Fitting estimator with 238 features.\n",
      "Fitting estimator with 228 features.\n",
      "Fitting estimator with 218 features.\n",
      "Fitting estimator with 208 features.\n",
      "Fitting estimator with 198 features.\n",
      "Fitting estimator with 188 features.\n",
      "Fitting estimator with 178 features.\n",
      "Fitting estimator with 168 features.\n",
      "Fitting estimator with 158 features.\n",
      "Fitting estimator with 148 features.\n",
      "Fitting estimator with 138 features.\n",
      "Fitting estimator with 128 features.\n",
      "Fitting estimator with 118 features.\n",
      "Fitting estimator with 108 features.\n",
      "Fitting estimator with 98 features.\n",
      "Fitting estimator with 88 features.\n",
      "Fitting estimator with 78 features.\n",
      "Fitting estimator with 68 features.\n",
      "Fitting estimator with 58 features.\n",
      "Fitting estimator with 48 features.\n",
      "Fitting estimator with 38 features.\n",
      "Fitting estimator with 28 features.\n",
      "Fitting estimator with 18 features.\n",
      "Fitting estimator with 8 features.\n",
      "Fitting estimator with 258 features.\n",
      "Fitting estimator with 248 features.\n",
      "Fitting estimator with 238 features.\n",
      "Fitting estimator with 228 features.\n",
      "Fitting estimator with 218 features.\n",
      "Fitting estimator with 208 features.\n",
      "Fitting estimator with 198 features.\n",
      "Fitting estimator with 188 features.\n",
      "Fitting estimator with 178 features.\n",
      "Fitting estimator with 168 features.\n",
      "Fitting estimator with 158 features.\n",
      "Fitting estimator with 148 features.\n",
      "Fitting estimator with 138 features.\n",
      "Fitting estimator with 128 features.\n",
      "Fitting estimator with 118 features.\n",
      "Fitting estimator with 108 features.\n",
      "Fitting estimator with 98 features.\n",
      "Fitting estimator with 88 features.\n",
      "Fitting estimator with 78 features.\n",
      "Fitting estimator with 68 features.\n",
      "Fitting estimator with 58 features.\n",
      "Fitting estimator with 48 features.\n",
      "Fitting estimator with 38 features.\n",
      "Fitting estimator with 28 features.\n",
      "Fitting estimator with 18 features.\n",
      "Fitting estimator with 8 features.\n",
      "Fitting estimator with 258 features.\n",
      "Fitting estimator with 248 features.\n",
      "Fitting estimator with 238 features.\n",
      "Fitting estimator with 228 features.\n",
      "Fitting estimator with 218 features.\n",
      "Fitting estimator with 208 features.\n",
      "Fitting estimator with 198 features.\n",
      "Fitting estimator with 188 features.\n",
      "Fitting estimator with 178 features.\n",
      "Fitting estimator with 168 features.\n",
      "Fitting estimator with 158 features.\n",
      "Fitting estimator with 148 features.\n",
      "Fitting estimator with 138 features.\n",
      "Fitting estimator with 128 features.\n",
      "Fitting estimator with 118 features.\n",
      "Fitting estimator with 108 features.\n",
      "Fitting estimator with 98 features.\n",
      "Fitting estimator with 88 features.\n",
      "Fitting estimator with 78 features.\n",
      "Fitting estimator with 68 features.\n",
      "Fitting estimator with 58 features.\n",
      "Fitting estimator with 48 features.\n",
      "Fitting estimator with 38 features.\n",
      "Fitting estimator with 28 features.\n",
      "Fitting estimator with 18 features.\n",
      "Fitting estimator with 8 features.\n",
      "Fitting estimator with 258 features.\n",
      "Fitting estimator with 248 features.\n",
      "Fitting estimator with 238 features.\n",
      "Fitting estimator with 228 features.\n",
      "CPU times: user 1min 2s, sys: 154 ms, total: 1min 2s\n",
      "Wall time: 1min 2s\n"
     ]
    }
   ],
   "source": [
    "%%time\n",
    "selector = selector.fit(df.drop(columns=['labels']).values, df['labels'].values)"
   ]
  },
  {
   "cell_type": "code",
   "execution_count": 10,
   "id": "d68e1aea",
   "metadata": {},
   "outputs": [
    {
     "name": "stdout",
     "output_type": "stream",
     "text": [
      "Number of dropped prototypes: 40\n"
     ]
    }
   ],
   "source": [
    "mask = selector.support_\n",
    "print('Number of dropped prototypes:', sum(~mask))\n",
    "proto_kept, proto_dropped = np.where(mask)[0], np.where(~mask)[0]"
   ]
  },
  {
   "cell_type": "code",
   "execution_count": 11,
   "id": "bdab430e",
   "metadata": {},
   "outputs": [],
   "source": [
    "to_sample = 10 # number of sampled prototypes for dropped and kept"
   ]
  },
  {
   "cell_type": "code",
   "execution_count": 15,
   "id": "7f1ccc72",
   "metadata": {},
   "outputs": [
    {
     "name": "stdout",
     "output_type": "stream",
     "text": [
      "CUDA device set without id specification\n",
      "Device used:  cuda with id [0]\n",
      "Number of prototypes set from 768 to 258 . Extra 1x1 conv layer added. Not recommended.\n",
      "chosen network is convnext\n",
      "Pretrained network loaded\n",
      "Num classes (k) =  86 ['Amphidinium_sp', 'Asterionellopsis', 'Cerataulina', 'Cerataulina_flagellate', 'Ceratium'] etc.\n",
      "Visualizing prototypes for topk...\n"
     ]
    },
    {
     "name": "stderr",
     "output_type": "stream",
     "text": [
      "/sw/arch/RHEL8/EB_production/2022/software/PyTorch/1.12.0-foss-2022a-CUDA-11.7.0/lib/python3.10/site-packages/torch/utils/data/dataloader.py:557: UserWarning: This DataLoader will create 8 worker processes in total. Our suggested max number of worker in current system is 2, which is smaller than what this DataLoader is going to create. Please be aware that excessive worker creation might get DataLoader running slow or even freeze, lower the worker number to avoid potential slowness/freeze if necessary.\n",
      "  warnings.warn(_create_warning_msg(\n",
      "Collecting topk: 100% 3096/3096 [01:01<00:00, 50.01it/s]"
     ]
    },
    {
     "name": "stdout",
     "output_type": "stream",
     "text": [
      "0 prototypes do not have any similarity score > 0.1. Will be ignored in visualisation.\n"
     ]
    },
    {
     "name": "stderr",
     "output_type": "stream",
     "text": [
      "\n",
      "Visualizing topk: 100% 3096/3096 [00:37<00:00, 81.78it/s]"
     ]
    },
    {
     "name": "stdout",
     "output_type": "stream",
     "text": [
      "Abstained:  0\n"
     ]
    },
    {
     "name": "stderr",
     "output_type": "stream",
     "text": [
      "\n"
     ]
    }
   ],
   "source": [
    "from proto_drop_vis import visualize_topk_dropped\n",
    "\n",
    "visualize_topk_dropped(proto_dropped, proto_kept, LOG_DIR, PATH_TRAINED_MODEL, 'dropped_kept_protos__258_rfecv', k=10, to_sample=to_sample, num_features=258)"
   ]
  },
  {
   "cell_type": "code",
   "execution_count": null,
   "id": "f1674a1f",
   "metadata": {},
   "outputs": [],
   "source": []
  }
 ],
 "metadata": {
  "kernelspec": {
   "display_name": "Python 3 (ipykernel)",
   "language": "python",
   "name": "python3"
  },
  "language_info": {
   "codemirror_mode": {
    "name": "ipython",
    "version": 3
   },
   "file_extension": ".py",
   "mimetype": "text/x-python",
   "name": "python",
   "nbconvert_exporter": "python",
   "pygments_lexer": "ipython3",
   "version": "3.10.4"
  }
 },
 "nbformat": 4,
 "nbformat_minor": 5
}
