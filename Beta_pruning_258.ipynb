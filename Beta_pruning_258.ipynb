{
 "cells": [
  {
   "cell_type": "code",
   "execution_count": 15,
   "id": "aed3e32d",
   "metadata": {},
   "outputs": [
    {
     "name": "stdout",
     "output_type": "stream",
     "text": [
      "Matching files:\n",
      "testfile_2023-11-11-14:49:07_random_forest\n"
     ]
    }
   ],
   "source": [
    "import os\n",
    "import fnmatch\n",
    "\n",
    "directory = \"./\"\n",
    "search_string = \"testfile_2023-11-11-14:49:07_random_forest\"\n",
    "\n",
    "matching_files = []\n",
    "\n",
    "for filename in os.listdir(directory):\n",
    "    if fnmatch.fnmatch(filename, f\"*{search_string}*\"):\n",
    "        matching_files.append(filename)\n",
    "\n",
    "print(\"Matching files:\")\n",
    "for file in matching_files:\n",
    "    print(file)"
   ]
  },
  {
   "cell_type": "code",
   "execution_count": 16,
   "id": "e34e58c2",
   "metadata": {},
   "outputs": [],
   "source": [
    "with open(matching_files[-1], 'r') as file:\n",
    "    content = file.readlines()"
   ]
  },
  {
   "cell_type": "code",
   "execution_count": 17,
   "id": "95aa2b64",
   "metadata": {},
   "outputs": [],
   "source": [
    "import numpy as np\n",
    "\n",
    "content = [[float(x) for x in row.split(',')[:-1]] for row in content]\n",
    "\n",
    "matrix = np.asarray(content[1:])"
   ]
  },
  {
   "cell_type": "code",
   "execution_count": 20,
   "id": "e1020df0",
   "metadata": {},
   "outputs": [],
   "source": [
    "mean_weights = matrix.mean(axis=0)"
   ]
  },
  {
   "cell_type": "code",
   "execution_count": 25,
   "id": "5c59cacf",
   "metadata": {},
   "outputs": [],
   "source": [
    "%matplotlib inline"
   ]
  },
  {
   "cell_type": "code",
   "execution_count": 26,
   "id": "6c645fc5",
   "metadata": {},
   "outputs": [
    {
     "data": {
      "text/plain": [
       "(array([  8.,   8.,   4.,  11.,   9.,   6.,   3.,   4.,   1.,   5.,  10.,\n",
       "          1.,   4.,   0.,   1.,   1.,   0.,   1.,   0.,   0.,   0.,   0.,\n",
       "          0.,   0.,   0.,   1.,   0.,   0.,   0.,   0.,   0.,   1.,   1.,\n",
       "          1.,   1.,   0.,   4.,   1.,   7.,   8.,   4.,   4.,   2.,   2.,\n",
       "          5.,   4.,   3.,   5.,   1., 126.]),\n",
       " array([0.01581273, 0.03549648, 0.05518022, 0.07486397, 0.09454771,\n",
       "        0.11423146, 0.1339152 , 0.15359895, 0.1732827 , 0.19296644,\n",
       "        0.21265019, 0.23233393, 0.25201768, 0.27170142, 0.29138517,\n",
       "        0.31106891, 0.33075266, 0.3504364 , 0.37012015, 0.38980389,\n",
       "        0.40948764, 0.42917139, 0.44885513, 0.46853888, 0.48822262,\n",
       "        0.50790637, 0.52759011, 0.54727386, 0.5669576 , 0.58664135,\n",
       "        0.60632509, 0.62600884, 0.64569258, 0.66537633, 0.68506007,\n",
       "        0.70474382, 0.72442757, 0.74411131, 0.76379506, 0.7834788 ,\n",
       "        0.80316255, 0.82284629, 0.84253004, 0.86221378, 0.88189753,\n",
       "        0.90158127, 0.92126502, 0.94094876, 0.96063251, 0.98031625,\n",
       "        1.        ]),\n",
       " <BarContainer object of 50 artists>)"
      ]
     },
     "execution_count": 26,
     "metadata": {},
     "output_type": "execute_result"
    },
    {
     "data": {
      "image/png": "[encoded data removed]",
      "text/plain": [
       "<Figure size 432x288 with 1 Axes>"
      ]
     },
     "metadata": {
      "needs_background": "light"
     },
     "output_type": "display_data"
    }
   ],
   "source": [
    "import matplotlib.pyplot as plt\n",
    "\n",
    "plt.title(\"Mean weights\")\n",
    "plt.hist(mean_weights, bins=50)"
   ]
  },
  {
   "cell_type": "code",
   "execution_count": 29,
   "id": "1fe42add",
   "metadata": {},
   "outputs": [],
   "source": [
    "mean_weights = [x if x != 1 else 0.999999 for x in mean_weights]"
   ]
  },
  {
   "cell_type": "markdown",
   "id": "aedbe7ee",
   "metadata": {},
   "source": [
    "### Fit beta function to average values"
   ]
  },
  {
   "cell_type": "code",
   "execution_count": 30,
   "id": "f3e80696",
   "metadata": {},
   "outputs": [],
   "source": [
    "from scipy.stats import beta\n",
    "a, b, loc, scale = beta.fit(mean_weights, floc=0, fscale=1)"
   ]
  },
  {
   "cell_type": "code",
   "execution_count": 31,
   "id": "ff2f8484",
   "metadata": {},
   "outputs": [
    {
     "data": {
      "image/png": "[encoded data removed]",
      "text/plain": [
       "<Figure size 432x288 with 1 Axes>"
      ]
     },
     "metadata": {
      "needs_background": "light"
     },
     "output_type": "display_data"
    },
    {
     "name": "stdout",
     "output_type": "stream",
     "text": [
      "Lower threshold: 0.09165973884344332\n",
      "Prototypes to prune below the lower threshold: [  1  16  19  24  36  38  39  41  48  55  76  93 101 103 117 118 119 136\n",
      " 137 138 139 152 187 192 193 204 217 218 224 234 246]\n",
      "Upper threshold: 0.9999999982031549\n",
      "Prototypes to prune above the upper threshold: [ 25  29  43  65  66  72 112 154 194 207]\n"
     ]
    }
   ],
   "source": [
    "# Determine the 5th percentile threshold using the fitted Beta distribution.\n",
    "# Prototypes with similarity scores below this threshold are less informative or outliers and can be pruned.\n",
    "lower_threshold = beta.ppf(0.10, a, b, loc, scale)\n",
    "\n",
    "# Determine the 95th percentile threshold using the fitted Beta distribution.\n",
    "# Prototypes with similarity scores above this threshold are too common and can also be pruned.\n",
    "upper_threshold = beta.ppf(0.90, a, b, loc, scale)\n",
    "\n",
    "# Identify the pairwise comparison indices to prune based on the lower threshold.\n",
    "lower_to_prune_indices = np.where(mean_weights < lower_threshold)[0]\n",
    "\n",
    "# Identify the pairwise comparison indices to prune based on the upper threshold.\n",
    "upper_to_prune_indices = np.where(mean_weights > upper_threshold)[0]\n",
    "\n",
    "# Plot the histogram of the similarity scores with the pruning thresholds indicated.\n",
    "plt.hist(mean_weights, bins=50, alpha=0.75, label='Similarity Scores')\n",
    "plt.axvline(lower_threshold, color='r', linestyle='dashed', linewidth=2, label='5th Percentile Threshold')\n",
    "plt.axvline(upper_threshold, color='g', linestyle='dashed', linewidth=2, label='95th Percentile Threshold')\n",
    "plt.xlabel('Similarity Score')\n",
    "plt.ylabel('Frequency')\n",
    "plt.legend()\n",
    "plt.show()\n",
    "\n",
    "# Output the thresholds and the indices of pairwise comparisons that are candidates for pruning.\n",
    "print(f'Lower threshold: {lower_threshold}')\n",
    "print(f'Prototypes to prune below the lower threshold: {lower_to_prune_indices}')\n",
    "print(f'Upper threshold: {upper_threshold}')\n",
    "print(f'Prototypes to prune above the upper threshold: {upper_to_prune_indices}')"
   ]
  },
  {
   "cell_type": "markdown",
   "id": "e29a6e5b",
   "metadata": {},
   "source": [
    "## Visualize dropped and kept prototypes"
   ]
  },
  {
   "cell_type": "code",
   "execution_count": 19,
   "id": "74dac330",
   "metadata": {},
   "outputs": [],
   "source": [
    "from proto_drop_vis import visualize_topk_dropped\n",
    "import os\n",
    "\n",
    "cwd = os.getcwd()\n",
    "\n",
    "proto_dropped  = list(set(lower_to_prune_indices).union(upper_to_prune_indices))\n",
    "proto_kept = list(set(range(0, len(mean_weights))).difference(set(proto_dropped)))\n",
    "LOG_DIR = os.path.join(cwd, \"runs/plankton_test_2023_11_11_1445_258_protos_full_vis\")\n",
    "PATH_TRAINED_MODEL =  os.path.join(cwd, \"runs/plankton_258_protos/checkpoints/net_trained_60\")\n",
    "to_sample  = 10"
   ]
  },
  {
   "cell_type": "code",
   "execution_count": 20,
   "id": "ac5388d0",
   "metadata": {},
   "outputs": [
    {
     "name": "stdout",
     "output_type": "stream",
     "text": [
      "CUDA device set without id specification\n",
      "Device used:  cuda with id [0]\n",
      "Number of prototypes set from 768 to 258 . Extra 1x1 conv layer added. Not recommended.\n",
      "chosen network is convnext\n",
      "Pretrained network loaded\n",
      "Num classes (k) =  86 ['Amphidinium_sp', 'Asterionellopsis', 'Cerataulina', 'Cerataulina_flagellate', 'Ceratium'] etc.\n",
      "Visualizing prototypes for topk...\n"
     ]
    },
    {
     "name": "stderr",
     "output_type": "stream",
     "text": [
      "/sw/arch/RHEL8/EB_production/2022/software/PyTorch/1.12.0-foss-2022a-CUDA-11.7.0/lib/python3.10/site-packages/torch/utils/data/dataloader.py:557: UserWarning: This DataLoader will create 8 worker processes in total. Our suggested max number of worker in current system is 2, which is smaller than what this DataLoader is going to create. Please be aware that excessive worker creation might get DataLoader running slow or even freeze, lower the worker number to avoid potential slowness/freeze if necessary.\n",
      "  warnings.warn(_create_warning_msg(\n",
      "Collecting topk: 100% 3096/3096 [01:01<00:00, 50.33it/s]"
     ]
    },
    {
     "name": "stdout",
     "output_type": "stream",
     "text": [
      "0 prototypes do not have any similarity score > 0.1. Will be ignored in visualisation.\n"
     ]
    },
    {
     "name": "stderr",
     "output_type": "stream",
     "text": [
      "\n",
      "Visualizing topk: 100% 3096/3096 [00:37<00:00, 81.95it/s]"
     ]
    },
    {
     "name": "stdout",
     "output_type": "stream",
     "text": [
      "Abstained:  0\n"
     ]
    },
    {
     "name": "stderr",
     "output_type": "stream",
     "text": [
      "\n"
     ]
    }
   ],
   "source": [
    "visualize_topk_dropped(proto_dropped, proto_kept, LOG_DIR, PATH_TRAINED_MODEL, 'dropped_kept_protos_258_beta_pruning', k=10, to_sample=to_sample,  num_features=258)"
   ]
  },
  {
   "cell_type": "markdown",
   "id": "b48e0197",
   "metadata": {},
   "source": [
    "###  Inspect similarty scores for hand pick all grey prototypes"
   ]
  },
  {
   "cell_type": "code",
   "execution_count": 42,
   "id": "03eb602d",
   "metadata": {},
   "outputs": [],
   "source": [
    "# Get the mean weights of specifically selected grey prototypes\n",
    "grey_prototypes = [0, 11, 15, 40, 50, 60, 70, 71, 75]\n",
    "mean_weights_grey_prototypes = {idx: x for idx, x in enumerate(mean_weights) if idx in grey_prototypes}"
   ]
  },
  {
   "cell_type": "code",
   "execution_count": 43,
   "id": "ecd1b7c9",
   "metadata": {},
   "outputs": [
    {
     "data": {
      "text/plain": [
       "{0: 0.9999989824999997,\n",
       " 11: 0.999999,\n",
       " 15: 0.9999999888953486,\n",
       " 40: 0.999999,\n",
       " 50: 0.9999996088081393,\n",
       " 60: 0.14377550119308347,\n",
       " 70: 0.9999999522674419,\n",
       " 71: 0.13100341398342613,\n",
       " 75: 0.9999997240697663}"
      ]
     },
     "execution_count": 43,
     "metadata": {},
     "output_type": "execute_result"
    }
   ],
   "source": [
    "mean_weights_grey_prototypes"
   ]
  },
  {
   "cell_type": "code",
   "execution_count": 32,
   "id": "8e9d7a1f",
   "metadata": {},
   "outputs": [],
   "source": [
    "# Most important prototype\n",
    "index =  np.where(mean_weights == max(mean_weights))[0]"
   ]
  },
  {
   "cell_type": "code",
   "execution_count": 52,
   "id": "9300a033",
   "metadata": {},
   "outputs": [
    {
     "data": {
      "image/png": "[encoded data removed]",
      "text/plain": [
       "<Figure size 720x576 with 9 Axes>"
      ]
     },
     "metadata": {
      "needs_background": "light"
     },
     "output_type": "display_data"
    }
   ],
   "source": [
    "fig, axs = plt.subplots(3, 3, figsize=(10, 8))\n",
    "\n",
    "for idx, proto in enumerate(grey_prototypes):\n",
    "    data = matrix[:, proto]\n",
    "    axs[idx//3, idx%3].hist(data, bins=50, alpha=0.5, color='blue', range=(0,1))\n",
    "    axs[idx//3, idx%3].set_title(f'Proto {proto}')\n",
    "\n",
    "# Adjust layout for better spacing\n",
    "plt.tight_layout()\n",
    "\n",
    "# Show the plot\n",
    "plt.show()"
   ]
  },
  {
   "cell_type": "markdown",
   "id": "d6c8f8e9",
   "metadata": {},
   "source": [
    "### Try the same but with not grey prototypes "
   ]
  },
  {
   "cell_type": "code",
   "execution_count": 47,
   "id": "e2c38b22",
   "metadata": {},
   "outputs": [],
   "source": [
    "useful_prototypes = [9, 13, 14, 29, 67, 107, 128, 156, 241]\n",
    "mean_weights_useful_prototypes = {idx: x for idx, x in enumerate(mean_weights) if idx in useful_prototypes}"
   ]
  },
  {
   "cell_type": "code",
   "execution_count": 48,
   "id": "5adaf607",
   "metadata": {},
   "outputs": [
    {
     "data": {
      "text/plain": [
       "{9: 0.9999995713662788,\n",
       " 13: 0.9999998118895344,\n",
       " 14: 0.8193896747827915,\n",
       " 29: 0.9999999986046512,\n",
       " 67: 0.8403902051598834,\n",
       " 107: 0.999999398052325,\n",
       " 128: 0.999994146104651,\n",
       " 156: 0.23948477996442302,\n",
       " 241: 0.8892870655377907}"
      ]
     },
     "execution_count": 48,
     "metadata": {},
     "output_type": "execute_result"
    }
   ],
   "source": [
    "mean_weights_useful_prototypes"
   ]
  },
  {
   "cell_type": "code",
   "execution_count": 51,
   "id": "7df1a9e3",
   "metadata": {},
   "outputs": [
    {
     "data": {
      "image/png": "[encoded data removed]",
      "text/plain": [
       "<Figure size 720x576 with 9 Axes>"
      ]
     },
     "metadata": {
      "needs_background": "light"
     },
     "output_type": "display_data"
    }
   ],
   "source": [
    "fig, axs = plt.subplots(3, 3, figsize=(10, 8))\n",
    "\n",
    "for idx, proto in enumerate(useful_prototypes):\n",
    "    data = matrix[:, proto]\n",
    "    axs[idx//3, idx%3].hist(data, bins=50, alpha=0.5, color='blue', range=(0,1))\n",
    "    axs[idx//3, idx%3].set_title(f'Proto {proto}')\n",
    "\n",
    "# Adjust layout for better spacing\n",
    "plt.tight_layout()\n",
    "\n",
    "# Show the plot\n",
    "plt.show()"
   ]
  },
  {
   "cell_type": "code",
   "execution_count": null,
   "id": "e5297a08",
   "metadata": {},
   "outputs": [],
   "source": []
  }
 ],
 "metadata": {
  "kernelspec": {
   "display_name": "Python 3 (ipykernel)",
   "language": "python",
   "name": "python3"
  },
  "language_info": {
   "codemirror_mode": {
    "name": "ipython",
    "version": 3
   },
   "file_extension": ".py",
   "mimetype": "text/x-python",
   "name": "python",
   "nbconvert_exporter": "python",
   "pygments_lexer": "ipython3",
   "version": "3.10.4"
  }
 },
 "nbformat": 4,
 "nbformat_minor": 5
}
