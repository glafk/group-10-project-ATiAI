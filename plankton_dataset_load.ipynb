{
 "cells": [
  {
   "cell_type": "code",
   "execution_count": 1,
   "id": "4772b126",
   "metadata": {
    "scrolled": true
   },
   "outputs": [
    {
     "name": "stdout",
     "output_type": "stream",
     "text": [
      "Defaulting to user installation because normal site-packages is not writeable\n",
      "Collecting openml==0.13.0\n",
      "  Downloading openml-0.13.0-py3-none-any.whl (140 kB)\n",
      "\u001b[2K     \u001b[90m━━━━━━━━━━━━━━━━━━━━━━━━━━━━━━━━━━━━━━\u001b[0m \u001b[32m140.1/140.1 KB\u001b[0m \u001b[31m20.0 MB/s\u001b[0m eta \u001b[36m0:00:00\u001b[0m\n",
      "\u001b[?25hRequirement already satisfied: liac-arff>=2.4.0 in /gpfs/admin/_hpc/sw/arch/INTEL-AVX512/RHEL8/EB_production/2022/software/Python/3.10.4-GCCcore-11.3.0/lib/python3.10/site-packages (from openml==0.13.0) (2.5.0)\n",
      "Requirement already satisfied: scikit-learn>=0.18 in /gpfs/home3/scur0846/.local/lib/python3.10/site-packages (from openml==0.13.0) (1.3.1)\n",
      "Requirement already satisfied: pandas>=1.0.0 in /gpfs/admin/_hpc/sw/arch/INTEL-AVX512/RHEL8/EB_production/2022/software/SciPy-bundle/2022.05-foss-2022a/lib/python3.10/site-packages (from openml==0.13.0) (1.4.2)\n",
      "Collecting pyarrow\n",
      "  Downloading pyarrow-13.0.0-cp310-cp310-manylinux_2_28_x86_64.whl (40.0 MB)\n",
      "\u001b[2K     \u001b[90m━━━━━━━━━━━━━━━━━━━━━━━━━━━━━━━━━━━━━━━\u001b[0m \u001b[32m40.0/40.0 MB\u001b[0m \u001b[31m125.3 MB/s\u001b[0m eta \u001b[36m0:00:00\u001b[0m00:01\u001b[0m00:01\u001b[0m\n",
      "\u001b[?25hCollecting xmltodict\n",
      "  Downloading xmltodict-0.13.0-py2.py3-none-any.whl (10.0 kB)\n",
      "Collecting minio\n",
      "  Downloading minio-7.1.17-py3-none-any.whl (78 kB)\n",
      "\u001b[2K     \u001b[90m━━━━━━━━━━━━━━━━━━━━━━━━━━━━━━━━━━━━━━━━\u001b[0m \u001b[32m78.3/78.3 KB\u001b[0m \u001b[31m15.3 MB/s\u001b[0m eta \u001b[36m0:00:00\u001b[0m\n",
      "\u001b[?25hRequirement already satisfied: numpy>=1.6.2 in /gpfs/admin/_hpc/sw/arch/INTEL-AVX512/RHEL8/EB_production/2022/software/SciPy-bundle/2022.05-foss-2022a/lib/python3.10/site-packages (from openml==0.13.0) (1.22.3)\n",
      "Requirement already satisfied: scipy>=0.13.3 in /gpfs/admin/_hpc/sw/arch/INTEL-AVX512/RHEL8/EB_production/2022/software/SciPy-bundle/2022.05-foss-2022a/lib/python3.10/site-packages (from openml==0.13.0) (1.8.1)\n",
      "Requirement already satisfied: requests in /gpfs/admin/_hpc/sw/arch/INTEL-AVX512/RHEL8/EB_production/2022/software/Python/3.10.4-GCCcore-11.3.0/lib/python3.10/site-packages (from openml==0.13.0) (2.27.1)\n",
      "Requirement already satisfied: python-dateutil in /gpfs/admin/_hpc/sw/arch/INTEL-AVX512/RHEL8/EB_production/2022/software/Python/3.10.4-GCCcore-11.3.0/lib/python3.10/site-packages (from openml==0.13.0) (2.8.2)\n",
      "Requirement already satisfied: pytz>=2020.1 in /gpfs/admin/_hpc/sw/arch/INTEL-AVX512/RHEL8/EB_production/2022/software/Python/3.10.4-GCCcore-11.3.0/lib/python3.10/site-packages (from pandas>=1.0.0->openml==0.13.0) (2022.1)\n",
      "Requirement already satisfied: six>=1.5 in /gpfs/admin/_hpc/sw/arch/INTEL-AVX512/RHEL8/EB_production/2022/software/Python/3.10.4-GCCcore-11.3.0/lib/python3.10/site-packages (from python-dateutil->openml==0.13.0) (1.16.0)\n",
      "Requirement already satisfied: threadpoolctl>=2.0.0 in /gpfs/admin/_hpc/sw/arch/INTEL-AVX512/RHEL8/EB_production/2022/software/Python/3.10.4-GCCcore-11.3.0/lib/python3.10/site-packages (from scikit-learn>=0.18->openml==0.13.0) (3.1.0)\n",
      "Requirement already satisfied: joblib>=1.1.1 in /gpfs/home3/scur0846/.local/lib/python3.10/site-packages (from scikit-learn>=0.18->openml==0.13.0) (1.3.2)\n",
      "Requirement already satisfied: certifi in /gpfs/admin/_hpc/sw/arch/INTEL-AVX512/RHEL8/EB_production/2022/software/Python/3.10.4-GCCcore-11.3.0/lib/python3.10/site-packages (from minio->openml==0.13.0) (2021.10.8)\n",
      "Requirement already satisfied: urllib3 in /gpfs/admin/_hpc/sw/arch/INTEL-AVX512/RHEL8/EB_production/2022/software/Python/3.10.4-GCCcore-11.3.0/lib/python3.10/site-packages (from minio->openml==0.13.0) (1.26.9)\n",
      "Requirement already satisfied: idna<4,>=2.5 in /gpfs/admin/_hpc/sw/arch/INTEL-AVX512/RHEL8/EB_production/2022/software/Python/3.10.4-GCCcore-11.3.0/lib/python3.10/site-packages (from requests->openml==0.13.0) (3.3)\n",
      "Requirement already satisfied: charset-normalizer~=2.0.0 in /gpfs/admin/_hpc/sw/arch/INTEL-AVX512/RHEL8/EB_production/2022/software/Python/3.10.4-GCCcore-11.3.0/lib/python3.10/site-packages (from requests->openml==0.13.0) (2.0.12)\n",
      "Installing collected packages: xmltodict, pyarrow, minio, openml\n",
      "\u001b[33m  WARNING: The script openml is installed in '/home/scur0846/.local/bin' which is not on PATH.\n",
      "  Consider adding this directory to PATH or, if you prefer to suppress this warning, use --no-warn-script-location.\u001b[0m\u001b[33m\n",
      "\u001b[0mSuccessfully installed minio-7.1.17 openml-0.13.0 pyarrow-13.0.0 xmltodict-0.13.0\n",
      "\u001b[33mWARNING: You are using pip version 22.0.4; however, version 23.3.1 is available.\n",
      "You should consider upgrading via the '/sw/arch/RHEL8/EB_production/2022/software/Python/3.10.4-GCCcore-11.3.0/bin/python -m pip install --upgrade pip' command.\u001b[0m\u001b[33m\n",
      "\u001b[0m"
     ]
    }
   ],
   "source": [
    "!pip install openml==0.13.0"
   ]
  },
  {
   "cell_type": "code",
   "execution_count": 1,
   "id": "180e7f44",
   "metadata": {},
   "outputs": [],
   "source": [
    "import openml\n",
    "import os"
   ]
  },
  {
   "cell_type": "code",
   "execution_count": 2,
   "id": "b5f442b0",
   "metadata": {},
   "outputs": [
    {
     "name": "stderr",
     "output_type": "stream",
     "text": [
      "/home/scur0846/.local/lib/python3.10/site-packages/openml/datasets/functions.py:404: UserWarning: ``download_all_files`` is experimental and is likely to break with new releases.\n",
      "  warnings.warn(\n"
     ]
    }
   ],
   "source": [
    "# Download the dataset. You can ignore the warning.\n",
    "d = openml.datasets.get_dataset(44282, download_all_files=True)\n",
    "df, *_ = d.get_data()\n",
    "\n",
    "# Defines where the raw image files are stored\n",
    "# OpenML caches them by default, so we can point there\n",
    "data_path = os.path.join(openml.config.cache_directory, \"org/openml/www/datasets/44282/PLK_Mini/images/\")"
   ]
  },
  {
   "cell_type": "code",
   "execution_count": 5,
   "id": "39e219f3",
   "metadata": {},
   "outputs": [],
   "source": [
    "from sklearn.model_selection import train_test_split\n",
    "\n",
    "df_train, df_test = train_test_split(df, stratify = df['CATEGORY'], test_size = 0.1, random_state=420)"
   ]
  },
  {
   "cell_type": "code",
   "execution_count": 6,
   "id": "89517b22",
   "metadata": {},
   "outputs": [],
   "source": [
    "!mkdir ./data/PLK_Mini/train/\n",
    "!mkdir ./data/PLK_Mini/test/"
   ]
  },
  {
   "cell_type": "code",
   "execution_count": 7,
   "id": "727a1904",
   "metadata": {},
   "outputs": [],
   "source": [
    "import torchvision"
   ]
  },
  {
   "cell_type": "code",
   "execution_count": 8,
   "id": "146f0646",
   "metadata": {},
   "outputs": [],
   "source": [
    "train_path = './data/PLK_Mini/train/'\n",
    "test_path = './data/PLK_Mini/test/'"
   ]
  },
  {
   "cell_type": "code",
   "execution_count": 9,
   "id": "2c0ef293",
   "metadata": {},
   "outputs": [],
   "source": [
    "for index, row in df_train.iterrows():\n",
    "    img = torchvision.io.read_image(os.path.join(data_path, row['FILE_NAME']))\n",
    "    categ_dir = os.path.join(train_path, row['CATEGORY'])\n",
    "    if not os.path.isdir(categ_dir):\n",
    "        os.mkdir(categ_dir)\n",
    "    torchvision.io.write_png(img, os.path.join(categ_dir, row['FILE_NAME']))"
   ]
  },
  {
   "cell_type": "code",
   "execution_count": 10,
   "id": "2142d428",
   "metadata": {},
   "outputs": [],
   "source": [
    "for index, row in df_test.iterrows():\n",
    "    img = torchvision.io.read_image(os.path.join(data_path, row['FILE_NAME']))\n",
    "    categ_dir = os.path.join(test_path, row['CATEGORY'])\n",
    "    if not os.path.isdir(categ_dir):\n",
    "        os.mkdir(categ_dir)\n",
    "    torchvision.io.write_png(img, os.path.join(categ_dir, row['FILE_NAME']))"
   ]
  },
  {
   "cell_type": "markdown",
   "id": "6eeef974",
   "metadata": {},
   "source": [
    "### Train and evaluate with default  (768) number of prototypes"
   ]
  },
  {
   "cell_type": "code",
   "execution_count": null,
   "id": "0f672953",
   "metadata": {},
   "outputs": [],
   "source": [
    "!python3 main.py --dataset plankton --epochs_pretrain 10 --batch_size 16 --batch_size_pretrain 16 --validation_size 0.2 --image_size 128 --freeze_epochs 0 --epochs 60 --log_dir ./runs/plankton_258_protos "
   ]
  },
  {
   "cell_type": "code",
   "execution_count": null,
   "id": "5b1e3439",
   "metadata": {},
   "outputs": [],
   "source": [
    "!python3 main.py --dataset plankton --epochs_pretrain 0 --batch_size 16 --freeze_epochs 0 --epochs 0 --log_dir ./runs/plankton_test_2023_11_11_1530_768_protos_full_vis --image_size 128 --state_dict_dir_net ./runs/plankton_258_protos/checkpoints/net_trained_60"
   ]
  },
  {
   "cell_type": "markdown",
   "id": "c0d5423d",
   "metadata": {},
   "source": [
    "### Train  and evaluate with 258 prototypes"
   ]
  },
  {
   "cell_type": "code",
   "execution_count": null,
   "id": "efaac392",
   "metadata": {},
   "outputs": [],
   "source": [
    "!python3 main.py --dataset plankton --epochs_pretrain 10 --batch_size 16 --batch_size_pretrain 16 --validation_size 0.2 --image_size 128 --freeze_epochs 0 --epochs 60 --log_dir ./runs/plankton_258_protos --num_features 258 "
   ]
  },
  {
   "cell_type": "code",
   "execution_count": 5,
   "id": "f999426b",
   "metadata": {},
   "outputs": [],
   "source": [
    "!python3 main.py --dataset plankton --epochs_pretrain 0 --batch_size 16 --freeze_epochs 0 --epochs 0 --log_dir ./runs/plankton_test_2023_11_11_1530_768_protos_full_vis --image_size 128 --num_features 258 --state_dict_dir_net ./runs/plankton_258_protos/checkpoints/net_trained_60"
   ]
  },
  {
   "cell_type": "code",
   "execution_count": null,
   "id": "5c019c38",
   "metadata": {},
   "outputs": [],
   "source": []
  }
 ],
 "metadata": {
  "kernelspec": {
   "display_name": "Python 3 (ipykernel)",
   "language": "python",
   "name": "python3"
  },
  "language_info": {
   "codemirror_mode": {
    "name": "ipython",
    "version": 3
   },
   "file_extension": ".py",
   "mimetype": "text/x-python",
   "name": "python",
   "nbconvert_exporter": "python",
   "pygments_lexer": "ipython3",
   "version": "3.10.4"
  }
 },
 "nbformat": 4,
 "nbformat_minor": 5
}
