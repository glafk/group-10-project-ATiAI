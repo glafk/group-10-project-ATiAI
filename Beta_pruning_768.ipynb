{
 "cells": [
  {
   "cell_type": "code",
   "execution_count": 4,
   "id": "aed3e32d",
   "metadata": {},
   "outputs": [
    {
     "name": "stdout",
     "output_type": "stream",
     "text": [
      "Matching files:\n",
      "testfile_2023-11-11-15:35:40_random_forest\n"
     ]
    }
   ],
   "source": [
    "import os\n",
    "import fnmatch\n",
    "\n",
    "directory = \"./\"\n",
    "search_string = \"testfile_2023-11-11-15:35:40_random_forest\"\n",
    "\n",
    "matching_files = []\n",
    "\n",
    "for filename in os.listdir(directory):\n",
    "    if fnmatch.fnmatch(filename, f\"*{search_string}*\"):\n",
    "        matching_files.append(filename)\n",
    "\n",
    "print(\"Matching files:\")\n",
    "for file in matching_files:\n",
    "    print(file)"
   ]
  },
  {
   "cell_type": "code",
   "execution_count": 5,
   "id": "e34e58c2",
   "metadata": {},
   "outputs": [],
   "source": [
    "with open(matching_files[-1], 'r') as file:\n",
    "    content = file.readlines()"
   ]
  },
  {
   "cell_type": "code",
   "execution_count": 6,
   "id": "95aa2b64",
   "metadata": {},
   "outputs": [],
   "source": [
    "import numpy as np\n",
    "\n",
    "content = [[float(x) for x in row.split(',')[:-1]] for row in content]\n",
    "\n",
    "matrix = np.asarray(content[1:])"
   ]
  },
  {
   "cell_type": "code",
   "execution_count": 9,
   "id": "e1020df0",
   "metadata": {},
   "outputs": [],
   "source": [
    "mean_weights = matrix.mean(axis=0)"
   ]
  },
  {
   "cell_type": "code",
   "execution_count": 14,
   "id": "5c59cacf",
   "metadata": {},
   "outputs": [],
   "source": [
    "%matplotlib inline"
   ]
  },
  {
   "cell_type": "code",
   "execution_count": 35,
   "id": "6c645fc5",
   "metadata": {},
   "outputs": [
    {
     "data": {
      "text/plain": [
       "(array([ 21.,  41., 112., 128.,  28.,  24.,  18.,  21.,  34.,  40.,  31.,\n",
       "         30.,  16.,  11.,   7.,   8.,   7.,   6.,   7.,   9.,   9.,   5.,\n",
       "          5.,   5.,   3.,   5.,   4.,   4.,   6.,   6.,   5.,  15.,  19.,\n",
       "          9.,   6.,   9.,   6.,   3.,   3.,   4.,   0.,  10.,   3.,   5.,\n",
       "          6.,   2.,   6.,   1.,   0.,   5.]),\n",
       " array([0.01145652, 0.03122739, 0.05099826, 0.07076912, 0.09053999,\n",
       "        0.11031086, 0.13008173, 0.1498526 , 0.16962347, 0.18939434,\n",
       "        0.20916521, 0.22893608, 0.24870695, 0.26847782, 0.28824869,\n",
       "        0.30801956, 0.32779043, 0.3475613 , 0.36733217, 0.38710303,\n",
       "        0.4068739 , 0.42664477, 0.44641564, 0.46618651, 0.48595738,\n",
       "        0.50572825, 0.52549912, 0.54526999, 0.56504086, 0.58481173,\n",
       "        0.6045826 , 0.62435347, 0.64412434, 0.66389521, 0.68366608,\n",
       "        0.70343694, 0.72320781, 0.74297868, 0.76274955, 0.78252042,\n",
       "        0.80229129, 0.82206216, 0.84183303, 0.8616039 , 0.88137477,\n",
       "        0.90114564, 0.92091651, 0.94068738, 0.96045825, 0.98022912,\n",
       "        0.99999999]),\n",
       " <BarContainer object of 50 artists>)"
      ]
     },
     "execution_count": 35,
     "metadata": {},
     "output_type": "execute_result"
    },
    {
     "data": {
      "image/png": "[encoded data removed]",
      "text/plain": [
       "<Figure size 432x288 with 1 Axes>"
      ]
     },
     "metadata": {
      "needs_background": "light"
     },
     "output_type": "display_data"
    }
   ],
   "source": [
    "import matplotlib.pyplot as plt\n",
    "\n",
    "plt.title(\"Mean weights\")\n",
    "plt.hist(mean_weights, bins=50)"
   ]
  },
  {
   "cell_type": "code",
   "execution_count": 19,
   "id": "5835fed1",
   "metadata": {},
   "outputs": [],
   "source": [
    "mean_weights = [x if x != 1 else 0.999999 for x in mean_weights]"
   ]
  },
  {
   "cell_type": "markdown",
   "id": "aedbe7ee",
   "metadata": {},
   "source": [
    "### Fit beta function to average values"
   ]
  },
  {
   "cell_type": "code",
   "execution_count": 33,
   "id": "f3e80696",
   "metadata": {},
   "outputs": [],
   "source": [
    "from scipy.stats import beta\n",
    "a, b, loc, scale = beta.fit(mean_weights, floc=0, fscale=1)"
   ]
  },
  {
   "cell_type": "code",
   "execution_count": 37,
   "id": "ff2f8484",
   "metadata": {},
   "outputs": [
    {
     "data": {
      "image/png": "[encoded data removed]",
      "text/plain": [
       "<Figure size 432x288 with 1 Axes>"
      ]
     },
     "metadata": {
      "needs_background": "light"
     },
     "output_type": "display_data"
    },
    {
     "name": "stdout",
     "output_type": "stream",
     "text": [
      "Lower threshold: 0.021673841010322423\n",
      "Prototypes to prune below the lower threshold: [107 140 225 286 356 397 458 604 702]\n",
      "Upper threshold: 0.6961121187651715\n",
      "Prototypes to prune above the upper threshold: [  3   7  19  23  31  52  64  68  82 101 112 120 139 144 153 170 173 210\n",
      " 211 238 276 281 290 310 322 328 342 347 355 380 382 384 427 432 454 464\n",
      " 466 468 506 509 533 546 552 565 566 568 569 581 589 601 612 638 645 653\n",
      " 688 690 691 732 743 749 757 760 764]\n"
     ]
    }
   ],
   "source": [
    "# Determine the 5th percentile threshold using the fitted Beta distribution.\n",
    "# Prototypes with similarity scores below this threshold are less informative or outliers and can be pruned.\n",
    "lower_threshold = beta.ppf(0.10, a, b, loc, scale)\n",
    "\n",
    "# Determine the 95th percentile threshold using the fitted Beta distribution.\n",
    "# Prototypes with similarity scores above this threshold are too common and can also be pruned.\n",
    "upper_threshold = beta.ppf(0.90, a, b, loc, scale)\n",
    "\n",
    "# Identify the pairwise comparison indices to prune based on the lower threshold.\n",
    "lower_to_prune_indices = np.where(mean_weights < lower_threshold)[0]\n",
    "\n",
    "# Identify the pairwise comparison indices to prune based on the upper threshold.\n",
    "upper_to_prune_indices = np.where(mean_weights > upper_threshold)[0]\n",
    "\n",
    "# Plot the histogram of the similarity scores with the pruning thresholds indicated.\n",
    "plt.hist(mean_weights, bins=50, alpha=0.75, label='Similarity Scores')\n",
    "plt.axvline(lower_threshold, color='r', linestyle='dashed', linewidth=2, label='5th Percentile Threshold')\n",
    "plt.axvline(upper_threshold, color='g', linestyle='dashed', linewidth=2, label='95th Percentile Threshold')\n",
    "\n",
    "plt.xlabel('Similarity Score')\n",
    "plt.ylabel('Frequency')\n",
    "plt.legend()\n",
    "plt.show()\n",
    "\n",
    "# Output the thresholds and the indices of pairwise comparisons that are candidates for pruning.\n",
    "print(f'Lower threshold: {lower_threshold}')\n",
    "print(f'Prototypes to prune below the lower threshold: {lower_to_prune_indices}')\n",
    "print(f'Upper threshold: {upper_threshold}')\n",
    "print(f'Prototypes to prune above the upper threshold: {upper_to_prune_indices}')"
   ]
  },
  {
   "cell_type": "markdown",
   "id": "fd5bd311",
   "metadata": {},
   "source": [
    "## Visualize dropped and kept prototypes"
   ]
  },
  {
   "cell_type": "code",
   "execution_count": 19,
   "id": "020a6623",
   "metadata": {},
   "outputs": [],
   "source": [
    "from proto_drop_vis import visualize_topk_dropped\n",
    "import os\n",
    "\n",
    "cwd = os.getcwd()\n",
    "\n",
    "proto_dropped  = list(set(lower_to_prune_indices).union(upper_to_prune_indices))\n",
    "proto_kept = list(set(range(0, len(mean_weights))).difference(set(proto_dropped)))\n",
    "LOG_DIR = os.path.join(cwd, \"runs/plankton_test_2023_11_11_1530_768_protos_full_vis\")\n",
    "PATH_TRAINED_MODEL =  os.path.join(cwd, \"runs/plankton/checkpoints/net_trained_60\")\n",
    "to_sample  = 20"
   ]
  },
  {
   "cell_type": "code",
   "execution_count": 20,
   "id": "e875ebb8",
   "metadata": {},
   "outputs": [
    {
     "name": "stdout",
     "output_type": "stream",
     "text": [
      "CUDA device set without id specification\n",
      "Device used:  cuda with id [0]\n",
      "Number of prototypes:  768\n",
      "chosen network is convnext\n",
      "Pretrained network loaded\n",
      "Num classes (k) =  86 ['Amphidinium_sp', 'Asterionellopsis', 'Cerataulina', 'Cerataulina_flagellate', 'Ceratium'] etc.\n",
      "Visualizing prototypes for topk...\n"
     ]
    },
    {
     "name": "stderr",
     "output_type": "stream",
     "text": [
      "/sw/arch/RHEL8/EB_production/2022/software/PyTorch/1.12.0-foss-2022a-CUDA-11.7.0/lib/python3.10/site-packages/torch/utils/data/dataloader.py:557: UserWarning: This DataLoader will create 8 worker processes in total. Our suggested max number of worker in current system is 2, which is smaller than what this DataLoader is going to create. Please be aware that excessive worker creation might get DataLoader running slow or even freeze, lower the worker number to avoid potential slowness/freeze if necessary.\n",
      "  warnings.warn(_create_warning_msg(\n",
      "Collecting topk: 100% 3096/3096 [01:41<00:00, 30.63it/s]"
     ]
    },
    {
     "name": "stdout",
     "output_type": "stream",
     "text": [
      "0 prototypes do not have any similarity score > 0.1. Will be ignored in visualisation.\n"
     ]
    },
    {
     "name": "stderr",
     "output_type": "stream",
     "text": [
      "\n",
      "Visualizing topk: 100% 3096/3096 [01:48<00:00, 28.43it/s]"
     ]
    },
    {
     "name": "stdout",
     "output_type": "stream",
     "text": [
      "Abstained:  0\n"
     ]
    },
    {
     "name": "stderr",
     "output_type": "stream",
     "text": [
      "\n"
     ]
    }
   ],
   "source": [
    "visualize_topk_dropped(proto_dropped, proto_kept, LOG_DIR, PATH_TRAINED_MODEL, 'dropped_kept_protos_258_beta_pruning', k=10, to_sample=to_sample)"
   ]
  },
  {
   "cell_type": "markdown",
   "id": "b48e0197",
   "metadata": {},
   "source": [
    "###  Inspect similarty scores for hand pick all grey prototypes"
   ]
  },
  {
   "cell_type": "code",
   "execution_count": 22,
   "id": "03eb602d",
   "metadata": {},
   "outputs": [],
   "source": [
    "# Get the mean weights of specifically selected grey prototypes\n",
    "grey_prototypes = [6, 42, 15, 46, 51, 52, 69, 87, 97]\n",
    "mean_weights_grey_prototypes = {idx: x for idx, x in enumerate(mean_weights) if idx in grey_prototypes}"
   ]
  },
  {
   "cell_type": "code",
   "execution_count": 23,
   "id": "ecd1b7c9",
   "metadata": {},
   "outputs": [
    {
     "data": {
      "text/plain": [
       "{6: 0.34969485303590764,\n",
       " 15: 0.07755098192329833,\n",
       " 42: 0.3620353210193128,\n",
       " 46: 0.22683159323662513,\n",
       " 51: 0.5848466288260842,\n",
       " 52: 0.8392914106317615,\n",
       " 69: 0.3970578425206099,\n",
       " 87: 0.4411432139543741,\n",
       " 97: 0.47665319619040525}"
      ]
     },
     "execution_count": 23,
     "metadata": {},
     "output_type": "execute_result"
    }
   ],
   "source": [
    "mean_weights_grey_prototypes"
   ]
  },
  {
   "cell_type": "code",
   "execution_count": 24,
   "id": "8e9d7a1f",
   "metadata": {},
   "outputs": [],
   "source": [
    "# Most important prototype\n",
    "index =  np.where(mean_weights == max(mean_weights))[0]"
   ]
  },
  {
   "cell_type": "code",
   "execution_count": 25,
   "id": "9300a033",
   "metadata": {},
   "outputs": [
    {
     "data": {
      "image/png": "[encoded data removed]",
      "text/plain": [
       "<Figure size 720x576 with 9 Axes>"
      ]
     },
     "metadata": {
      "needs_background": "light"
     },
     "output_type": "display_data"
    }
   ],
   "source": [
    "fig, axs = plt.subplots(3, 3, figsize=(10, 8))\n",
    "\n",
    "for idx, proto in enumerate(grey_prototypes):\n",
    "    data = matrix[:, proto]\n",
    "    axs[idx//3, idx%3].hist(data, bins=50, alpha=0.5, color='blue', range=(0,1))\n",
    "    axs[idx//3, idx%3].set_title(f'Proto {proto}')\n",
    "\n",
    "# Adjust layout for better spacing\n",
    "plt.tight_layout()\n",
    "\n",
    "# Show the plot\n",
    "plt.show()"
   ]
  },
  {
   "cell_type": "markdown",
   "id": "d6c8f8e9",
   "metadata": {},
   "source": [
    "### Try the same but with not grey prototypes "
   ]
  },
  {
   "cell_type": "code",
   "execution_count": 26,
   "id": "e2c38b22",
   "metadata": {},
   "outputs": [],
   "source": [
    "useful_prototypes = [33, 38, 79, 91, 104, 125, 134, 136, 172]\n",
    "mean_weights_useful_prototypes = {idx: x for idx, x in enumerate(mean_weights) if idx in useful_prototypes}"
   ]
  },
  {
   "cell_type": "code",
   "execution_count": 27,
   "id": "5adaf607",
   "metadata": {},
   "outputs": [
    {
     "data": {
      "text/plain": [
       "{33: 0.041211923096296225,\n",
       " 38: 0.04146475464857749,\n",
       " 79: 0.14857069105501727,\n",
       " 91: 0.21150910716603324,\n",
       " 104: 0.2652747280810564,\n",
       " 125: 0.25352526561258804,\n",
       " 134: 0.0797109311694894,\n",
       " 136: 0.10467893534744602,\n",
       " 172: 0.10124296215167403}"
      ]
     },
     "execution_count": 27,
     "metadata": {},
     "output_type": "execute_result"
    }
   ],
   "source": [
    "mean_weights_useful_prototypes"
   ]
  },
  {
   "cell_type": "code",
   "execution_count": 28,
   "id": "7df1a9e3",
   "metadata": {},
   "outputs": [
    {
     "data": {
      "image/png": "[encoded data removed]",
      "text/plain": [
       "<Figure size 720x576 with 9 Axes>"
      ]
     },
     "metadata": {
      "needs_background": "light"
     },
     "output_type": "display_data"
    }
   ],
   "source": [
    "fig, axs = plt.subplots(3, 3, figsize=(10, 8))\n",
    "\n",
    "for idx, proto in enumerate(useful_prototypes):\n",
    "    data = matrix[:, proto]\n",
    "    axs[idx//3, idx%3].hist(data, bins=50, alpha=0.5, color='blue', range=(0,1))\n",
    "    axs[idx//3, idx%3].set_title(f'Proto {proto}')\n",
    "\n",
    "# Adjust layout for better spacing\n",
    "plt.tight_layout()\n",
    "\n",
    "# Show the plot\n",
    "plt.show()"
   ]
  },
  {
   "cell_type": "code",
   "execution_count": null,
   "id": "e5297a08",
   "metadata": {},
   "outputs": [],
   "source": []
  }
 ],
 "metadata": {
  "kernelspec": {
   "display_name": "Python 3 (ipykernel)",
   "language": "python",
   "name": "python3"
  },
  "language_info": {
   "codemirror_mode": {
    "name": "ipython",
    "version": 3
   },
   "file_extension": ".py",
   "mimetype": "text/x-python",
   "name": "python",
   "nbconvert_exporter": "python",
   "pygments_lexer": "ipython3",
   "version": "3.10.4"
  }
 },
 "nbformat": 4,
 "nbformat_minor": 5
}
